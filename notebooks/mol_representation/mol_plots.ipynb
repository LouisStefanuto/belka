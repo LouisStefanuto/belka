{
 "cells": [
  {
   "cell_type": "code",
   "execution_count": null,
   "metadata": {},
   "outputs": [],
   "source": [
    "import pandas as pd\n",
    "\n",
    "# for basic SMILES operations, descriptors and fingerprints\n",
    "from rdkit import Chem\n",
    "from rdkit.Chem import Draw"
   ]
  },
  {
   "cell_type": "code",
   "execution_count": null,
   "metadata": {},
   "outputs": [],
   "source": [
    "# load sample of training data for demo\n",
    "df = pd.read_parquet(\"../../data/raw/test.parquet\")\n",
    "df.head()"
   ]
  },
  {
   "cell_type": "code",
   "execution_count": null,
   "metadata": {},
   "outputs": [],
   "source": [
    "df = df[:1000]"
   ]
  },
  {
   "cell_type": "code",
   "execution_count": null,
   "metadata": {},
   "outputs": [],
   "source": [
    "# assign unique molecule_smiles values to variable. This is all we need for the purpose of this demo\n",
    "smiles = df[\"molecule_smiles\"].unique()\n",
    "bb1 = df[\"buildingblock1_smiles\"].unique()\n",
    "bb2 = df[\"buildingblock2_smiles\"].unique()\n",
    "bb3 = df[\"buildingblock3_smiles\"].unique()\n",
    "print(len(smiles))"
   ]
  },
  {
   "cell_type": "code",
   "execution_count": null,
   "metadata": {},
   "outputs": [],
   "source": [
    "Draw.MolsToGridImage(\n",
    "    [Chem.MolFromSmiles(x) for x in smiles[0:4]],\n",
    "    molsPerRow=4,\n",
    "    subImgSize=(300, 300),\n",
    "    legends=[str(i) for i in range(4)],\n",
    ")"
   ]
  },
  {
   "cell_type": "code",
   "execution_count": null,
   "metadata": {},
   "outputs": [],
   "source": []
  }
 ],
 "metadata": {
  "kernelspec": {
   "display_name": ".venv",
   "language": "python",
   "name": "python3"
  },
  "language_info": {
   "codemirror_mode": {
    "name": "ipython",
    "version": 3
   },
   "file_extension": ".py",
   "mimetype": "text/x-python",
   "name": "python",
   "nbconvert_exporter": "python",
   "pygments_lexer": "ipython3",
   "version": "3.11.6"
  }
 },
 "nbformat": 4,
 "nbformat_minor": 2
}
