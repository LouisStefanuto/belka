{
 "cells": [
  {
   "cell_type": "markdown",
   "id": "4b500bf5",
   "metadata": {},
   "source": [
    "# BELKA: Shrinking the dataset\n",
    "\n",
    "Source : https://www.kaggle.com/code/shlomoron/belka-shrinking-the-dataset/notebook\n",
    "\n",
    "Author : GREYSNOW\n"
   ]
  },
  {
   "cell_type": "markdown",
   "id": "b9585566",
   "metadata": {
    "papermill": {
     "duration": 0.005586,
     "end_time": "2024-04-06T07:08:42.818131",
     "exception": false,
     "start_time": "2024-04-06T07:08:42.812545",
     "status": "completed"
    },
    "tags": []
   },
   "source": [
    "This notebook's purpose is to shrink the size of the dataset for the [BELKA competition](https://www.kaggle.com/competitions/leash-BELKA/discussion?sort=published) .  \n",
    "Shrinking strategy:\n",
    "\n",
    "1. No ID column.\n",
    "2. binds columns saved in bytes.\n",
    "3. buildingblock1_smiles/buildingblock2_smiles/buildingblock3_smiles columns saved as int16, with encoded indices of the building blobks. I saved the building blocks and their indices in separate dictionaries.\n",
    "4. I transformed the protein/label columns into three columns of labels per protein, shrinking the dataset length by three. (The other columns have identical values for each three consecutive rows).\n",
    "\n",
    "NOTE: TPU is not intended for EDA and data manipulation. Using TPU notebooks for the RAM capacity is considered a misuse of the TPU resource by Kaggle rules. Also, as an avid user of TPU, it is in my interest that people don't misuse it. In creating this notebook, I tried to make minimal use of TPU, developing and debugging on a regular notebook, and I published this notebook only because I feel that on this specific occasion, it is in the community's best interest to get a normal-size dataset instead of the given bloated one. Please don't fork/rerun this notebook on TPU, and please don't make similar use of the TPU notebook resource as I did here. I did it once, for the community, so that we all have a dataset that we can work with it. Thank you.\n",
    "\n",
    "If I see too many forks, I will turn this notebook to private (the dataset would still be public so don't worry). I hope I don't need to do this, so please don't fork.\n"
   ]
  },
  {
   "cell_type": "code",
   "execution_count": null,
   "id": "24a7f32d",
   "metadata": {
    "_cell_guid": "b1076dfc-b9ad-4769-8c92-a6c4dae69d19",
    "_uuid": "8f2839f25d086af736a60e9eeb907d3b93b6e0e5",
    "execution": {
     "iopub.execute_input": "2024-04-06T07:08:42.830181Z",
     "iopub.status.busy": "2024-04-06T07:08:42.829920Z",
     "iopub.status.idle": "2024-04-06T07:08:43.846761Z",
     "shell.execute_reply": "2024-04-06T07:08:43.846086Z"
    },
    "papermill": {
     "duration": 1.025456,
     "end_time": "2024-04-06T07:08:43.849105",
     "exception": false,
     "start_time": "2024-04-06T07:08:42.823649",
     "status": "completed"
    },
    "tags": []
   },
   "outputs": [],
   "source": [
    "import numpy as np\n",
    "import pandas as pd\n",
    "from pyarrow.parquet import ParquetFile\n",
    "import pickle\n",
    "import os"
   ]
  },
  {
   "cell_type": "code",
   "execution_count": null,
   "id": "64c0da85",
   "metadata": {
    "execution": {
     "iopub.execute_input": "2024-04-06T07:08:43.862140Z",
     "iopub.status.busy": "2024-04-06T07:08:43.861814Z",
     "iopub.status.idle": "2024-04-06T07:08:43.880103Z",
     "shell.execute_reply": "2024-04-06T07:08:43.879457Z"
    },
    "papermill": {
     "duration": 0.027485,
     "end_time": "2024-04-06T07:08:43.881881",
     "exception": false,
     "start_time": "2024-04-06T07:08:43.854396",
     "status": "completed"
    },
    "tags": []
   },
   "outputs": [],
   "source": [
    "ParquetFile(\"/kaggle/input/leash-BELKA/train.parquet\").metadata"
   ]
  },
  {
   "cell_type": "code",
   "execution_count": null,
   "id": "98282b56",
   "metadata": {
    "execution": {
     "iopub.execute_input": "2024-04-06T07:08:43.893212Z",
     "iopub.status.busy": "2024-04-06T07:08:43.892975Z",
     "iopub.status.idle": "2024-04-06T07:08:43.901254Z",
     "shell.execute_reply": "2024-04-06T07:08:43.900695Z"
    },
    "papermill": {
     "duration": 0.016103,
     "end_time": "2024-04-06T07:08:43.902867",
     "exception": false,
     "start_time": "2024-04-06T07:08:43.886764",
     "status": "completed"
    },
    "tags": []
   },
   "outputs": [],
   "source": [
    "ParquetFile(\"/kaggle/input/leash-BELKA/train.parquet\").schema"
   ]
  },
  {
   "cell_type": "code",
   "execution_count": null,
   "id": "8bbe5150",
   "metadata": {
    "execution": {
     "iopub.execute_input": "2024-04-06T07:08:43.914251Z",
     "iopub.status.busy": "2024-04-06T07:08:43.914033Z",
     "iopub.status.idle": "2024-04-06T07:08:43.917239Z",
     "shell.execute_reply": "2024-04-06T07:08:43.916522Z"
    },
    "papermill": {
     "duration": 0.011187,
     "end_time": "2024-04-06T07:08:43.918968",
     "exception": false,
     "start_time": "2024-04-06T07:08:43.907781",
     "status": "completed"
    },
    "tags": []
   },
   "outputs": [],
   "source": [
    "DEBUG = False\n",
    "if DEBUG:\n",
    "    NUM_ROWS = 30000000\n",
    "else:\n",
    "    NUM_ROWS = 295246830"
   ]
  },
  {
   "cell_type": "code",
   "execution_count": null,
   "id": "17c3b0f3",
   "metadata": {
    "execution": {
     "iopub.execute_input": "2024-04-06T07:08:43.930602Z",
     "iopub.status.busy": "2024-04-06T07:08:43.930351Z",
     "iopub.status.idle": "2024-04-06T07:08:43.933214Z",
     "shell.execute_reply": "2024-04-06T07:08:43.932652Z"
    },
    "papermill": {
     "duration": 0.010545,
     "end_time": "2024-04-06T07:08:43.934759",
     "exception": false,
     "start_time": "2024-04-06T07:08:43.924214",
     "status": "completed"
    },
    "tags": []
   },
   "outputs": [],
   "source": [
    "dataset_path = \"/kaggle/input/leash-BELKA/train.parquet\""
   ]
  },
  {
   "cell_type": "markdown",
   "id": "024f1386",
   "metadata": {
    "papermill": {
     "duration": 0.00498,
     "end_time": "2024-04-06T07:08:43.944918",
     "exception": false,
     "start_time": "2024-04-06T07:08:43.939938",
     "status": "completed"
    },
    "tags": []
   },
   "source": [
    "### A quick verifications that id column is what we expect it to be\n"
   ]
  },
  {
   "cell_type": "code",
   "execution_count": null,
   "id": "c292e959",
   "metadata": {
    "execution": {
     "iopub.execute_input": "2024-04-06T07:08:43.956327Z",
     "iopub.status.busy": "2024-04-06T07:08:43.956110Z",
     "iopub.status.idle": "2024-04-06T07:09:26.451035Z",
     "shell.execute_reply": "2024-04-06T07:09:26.450293Z"
    },
    "papermill": {
     "duration": 42.508364,
     "end_time": "2024-04-06T07:09:26.458447",
     "exception": false,
     "start_time": "2024-04-06T07:08:43.950083",
     "status": "completed"
    },
    "tags": []
   },
   "outputs": [],
   "source": [
    "def id_eda(dataset_path):\n",
    "    id_arr = pd.read_parquet(\n",
    "        dataset_path, engine=\"pyarrow\", columns=[\"id\"]\n",
    "    ).id.to_numpy()\n",
    "    id_arr_2 = range(295246830)\n",
    "    print(np.mean(id_arr == id_arr_2))\n",
    "\n",
    "\n",
    "id_eda(dataset_path)"
   ]
  },
  {
   "cell_type": "markdown",
   "id": "efb58eda",
   "metadata": {
    "papermill": {
     "duration": 0.005278,
     "end_time": "2024-04-06T07:09:26.469539",
     "exception": false,
     "start_time": "2024-04-06T07:09:26.464261",
     "status": "completed"
    },
    "tags": []
   },
   "source": [
    "### The dataset consists of three rows of the same small molecule with binding labels to the three different proteins, followed by three rows of the next small molecule, etc. We will verify it for each relevant column along the way.\n"
   ]
  },
  {
   "cell_type": "code",
   "execution_count": null,
   "id": "360e7062",
   "metadata": {
    "execution": {
     "iopub.execute_input": "2024-04-06T07:09:26.482372Z",
     "iopub.status.busy": "2024-04-06T07:09:26.482079Z",
     "iopub.status.idle": "2024-04-06T07:09:42.327720Z",
     "shell.execute_reply": "2024-04-06T07:09:42.327052Z"
    },
    "papermill": {
     "duration": 15.854103,
     "end_time": "2024-04-06T07:09:42.329613",
     "exception": false,
     "start_time": "2024-04-06T07:09:26.475510",
     "status": "completed"
    },
    "tags": []
   },
   "outputs": [],
   "source": [
    "def protein_name_eda(dataset_path):\n",
    "    protein_name = pd.read_parquet(\n",
    "        dataset_path, engine=\"pyarrow\", columns=[\"protein_name\"]\n",
    "    ).protein_name.to_numpy()\n",
    "    protein_name_reshaped = np.reshape(protein_name, [-1, 3])\n",
    "    print(np.mean(protein_name_reshaped[:, 0] == \"BRD4\"))\n",
    "    print(np.mean(protein_name_reshaped[:, 1] == \"HSA\"))\n",
    "    print(np.mean(protein_name_reshaped[:, 2] == \"sEH\"))\n",
    "\n",
    "\n",
    "protein_name_eda(dataset_path)"
   ]
  },
  {
   "cell_type": "code",
   "execution_count": null,
   "id": "8549f7e5",
   "metadata": {
    "execution": {
     "iopub.execute_input": "2024-04-06T07:09:42.342136Z",
     "iopub.status.busy": "2024-04-06T07:09:42.341887Z",
     "iopub.status.idle": "2024-04-06T07:09:45.896398Z",
     "shell.execute_reply": "2024-04-06T07:09:45.895641Z"
    },
    "papermill": {
     "duration": 3.563244,
     "end_time": "2024-04-06T07:09:45.898651",
     "exception": false,
     "start_time": "2024-04-06T07:09:42.335407",
     "status": "completed"
    },
    "tags": []
   },
   "outputs": [],
   "source": [
    "def get_binds(dataset_path):\n",
    "    binds = pd.read_parquet(\n",
    "        dataset_path, engine=\"pyarrow\", columns=[\"binds\"]\n",
    "    ).binds.to_numpy()\n",
    "    binds = binds[:NUM_ROWS]\n",
    "    return np.reshape(binds.astype(\"byte\"), [-1, 3])\n",
    "\n",
    "\n",
    "binds = get_binds(dataset_path)"
   ]
  },
  {
   "cell_type": "code",
   "execution_count": null,
   "id": "da6fc276",
   "metadata": {
    "execution": {
     "iopub.execute_input": "2024-04-06T07:09:45.911447Z",
     "iopub.status.busy": "2024-04-06T07:09:45.911201Z",
     "iopub.status.idle": "2024-04-06T07:14:52.261544Z",
     "shell.execute_reply": "2024-04-06T07:14:52.260758Z"
    },
    "papermill": {
     "duration": 306.365568,
     "end_time": "2024-04-06T07:14:52.269837",
     "exception": false,
     "start_time": "2024-04-06T07:09:45.904269",
     "status": "completed"
    },
    "tags": []
   },
   "outputs": [],
   "source": [
    "%%time\n",
    "\n",
    "def get_unique_BB(dataset_path, col):\n",
    "    \"\"\n",
    "    BBs = pd.read_parquet(dataset_path, engine = 'pyarrow', columns=[col])\n",
    "    BBs = BBs[:NUM_ROWS]\n",
    "    BBs = BBs.to_numpy()[:, 0]\n",
    "    BBs_reshaped = np.reshape(BBs, [-1, 3])\n",
    "    \n",
    "    # Check that the 3 columns are identical\n",
    "    if np.mean(BBs_reshaped[:, 0] == BBs_reshaped[:, 1]) != 1:\n",
    "        print('ERROR')\n",
    "    if np.mean(BBs_reshaped[:, 0] == BBs_reshaped[:, 2]) != 1:\n",
    "        print('ERROR')\n",
    "    \n",
    "    # Create the mapping dictionaries int <-> protein\n",
    "    BBs_unique = np.unique(BBs_reshaped[:, 0])\n",
    "    BBs_unique = list(BBs_unique)\n",
    "    BBs_dict = {BBs_unique[i]:i for i in range(len(BBs_unique))}\n",
    "    BBs_dict_reverse = {i:BBs_unique[i] for i in range(len(BBs_unique))}\n",
    "    return BBs_dict, BBs_dict_reverse\n",
    "\n",
    "BBs_dict_1, BBs_dict_reverse_1 = get_unique_BB(dataset_path, 'buildingblock1_smiles')\n",
    "print(len(BBs_dict_1))\n",
    "BBs_dict_2, BBs_dict_reverse_2 = get_unique_BB(dataset_path, 'buildingblock2_smiles')\n",
    "print(len(BBs_dict_2))\n",
    "BBs_dict_3, BBs_dict_reverse_3 = get_unique_BB(dataset_path, 'buildingblock3_smiles')\n",
    "print(len(BBs_dict_3))"
   ]
  },
  {
   "cell_type": "code",
   "execution_count": null,
   "id": "db3dd651",
   "metadata": {
    "execution": {
     "iopub.execute_input": "2024-04-06T07:14:52.283918Z",
     "iopub.status.busy": "2024-04-06T07:14:52.283589Z",
     "iopub.status.idle": "2024-04-06T07:16:12.580818Z",
     "shell.execute_reply": "2024-04-06T07:16:12.579617Z"
    },
    "papermill": {
     "duration": 80.311674,
     "end_time": "2024-04-06T07:16:12.587956",
     "exception": false,
     "start_time": "2024-04-06T07:14:52.276282",
     "status": "completed"
    },
    "tags": []
   },
   "outputs": [],
   "source": [
    "%%time\n",
    "\n",
    "def get_encoded(dataset_path, col, BBs_dict):\n",
    "    BBs = pd.read_parquet(dataset_path, engine = 'pyarrow', columns=[col])\n",
    "    BBs = BBs[:NUM_ROWS]\n",
    "    BBs = BBs[col].to_numpy()\n",
    "    BBs_reshaped = np.reshape(BBs, [-1, 3])\n",
    "    BBs = BBs_reshaped[:, 0]\n",
    "    encoded_BBs = [BBs_dict[x] for x in BBs]\n",
    "    encoded_BBs = np.asarray(encoded_BBs, dtype = np.int16)\n",
    "    return encoded_BBs\n",
    "\n",
    "encoded_BBs_1 = get_encoded(dataset_path, 'buildingblock1_smiles', BBs_dict_1)\n",
    "encoded_BBs_2 = get_encoded(dataset_path, 'buildingblock2_smiles', BBs_dict_2)\n",
    "encoded_BBs_3 = get_encoded(dataset_path, 'buildingblock3_smiles', BBs_dict_3)"
   ]
  },
  {
   "cell_type": "code",
   "execution_count": null,
   "id": "747a899e",
   "metadata": {
    "execution": {
     "iopub.execute_input": "2024-04-06T07:16:12.600707Z",
     "iopub.status.busy": "2024-04-06T07:16:12.600447Z",
     "iopub.status.idle": "2024-04-06T07:18:09.656331Z",
     "shell.execute_reply": "2024-04-06T07:18:09.452251Z"
    },
    "papermill": {
     "duration": 117.121285,
     "end_time": "2024-04-06T07:18:09.714917",
     "exception": false,
     "start_time": "2024-04-06T07:16:12.593632",
     "status": "completed"
    },
    "tags": []
   },
   "outputs": [],
   "source": [
    "def get_molecule_smiles(dataset_path):\n",
    "    if DEBUG:\n",
    "        molecule_smiles = pd.read_csv(\n",
    "            f\"{dataset_path[:-7]}csv\", usecols=[\"molecule_smiles\"], nrows=NUM_ROWS\n",
    "        )\n",
    "    else:\n",
    "        molecule_smiles = pd.read_parquet(\n",
    "            dataset_path, engine=\"pyarrow\", columns=[\"molecule_smiles\"]\n",
    "        )\n",
    "    molecule_smiles = molecule_smiles.molecule_smiles.to_numpy()\n",
    "    molecule_smiles = np.reshape(molecule_smiles, [-1, 3])\n",
    "    if np.mean(molecule_smiles[:, 0] == molecule_smiles[:, 1]) != 1:\n",
    "        print(\"ERROR\")\n",
    "    if np.mean(molecule_smiles[:, 0] == molecule_smiles[:, 2]) != 1:\n",
    "        print(\"ERROR\")\n",
    "    return molecule_smiles[:, 0]\n",
    "\n",
    "\n",
    "molecule_smiles = get_molecule_smiles(dataset_path)"
   ]
  },
  {
   "cell_type": "code",
   "execution_count": null,
   "id": "fc513348",
   "metadata": {
    "execution": {
     "iopub.execute_input": "2024-04-06T07:18:09.968819Z",
     "iopub.status.busy": "2024-04-06T07:18:09.946106Z",
     "iopub.status.idle": "2024-04-06T07:18:10.225620Z",
     "shell.execute_reply": "2024-04-06T07:18:10.224851Z"
    },
    "papermill": {
     "duration": 0.506098,
     "end_time": "2024-04-06T07:18:10.227342",
     "exception": false,
     "start_time": "2024-04-06T07:18:09.721244",
     "status": "completed"
    },
    "tags": []
   },
   "outputs": [],
   "source": [
    "df = pd.read_csv(\"/kaggle/input/leash-BELKA/train.csv\", nrows=2)\n",
    "df.head()"
   ]
  },
  {
   "cell_type": "code",
   "execution_count": null,
   "id": "12d12593",
   "metadata": {
    "execution": {
     "iopub.execute_input": "2024-04-06T07:18:10.240562Z",
     "iopub.status.busy": "2024-04-06T07:18:10.240302Z",
     "iopub.status.idle": "2024-04-06T07:18:12.536048Z",
     "shell.execute_reply": "2024-04-06T07:18:12.535284Z"
    },
    "papermill": {
     "duration": 2.304805,
     "end_time": "2024-04-06T07:18:12.538123",
     "exception": false,
     "start_time": "2024-04-06T07:18:10.233318",
     "status": "completed"
    },
    "tags": []
   },
   "outputs": [],
   "source": [
    "data = {\n",
    "    \"buildingblock1_smiles\": encoded_BBs_1,\n",
    "    \"buildingblock2_smiles\": encoded_BBs_2,\n",
    "    \"buildingblock3_smiles\": encoded_BBs_3,\n",
    "    \"molecule_smiles\": molecule_smiles,\n",
    "    \"binds_BRD4\": binds[:, 0],\n",
    "    \"binds_HSA\": binds[:, 1],\n",
    "    \"binds_sEH\": binds[:, 2],\n",
    "}\n",
    "df = pd.DataFrame(data=data)\n",
    "df.head(2)"
   ]
  },
  {
   "cell_type": "code",
   "execution_count": null,
   "id": "1ec48b38",
   "metadata": {
    "execution": {
     "iopub.execute_input": "2024-04-06T07:18:12.551732Z",
     "iopub.status.busy": "2024-04-06T07:18:12.551472Z",
     "iopub.status.idle": "2024-04-06T07:24:46.850761Z",
     "shell.execute_reply": "2024-04-06T07:24:46.849857Z"
    },
    "papermill": {
     "duration": 394.309062,
     "end_time": "2024-04-06T07:24:46.853368",
     "exception": false,
     "start_time": "2024-04-06T07:18:12.544306",
     "status": "completed"
    },
    "tags": []
   },
   "outputs": [],
   "source": [
    "df.to_parquet(\"train.parquet\", index=False)\n",
    "df.to_csv(\"train.csv\", index=False)"
   ]
  },
  {
   "cell_type": "code",
   "execution_count": null,
   "id": "e82e2eb5",
   "metadata": {
    "execution": {
     "iopub.execute_input": "2024-04-06T07:24:46.867320Z",
     "iopub.status.busy": "2024-04-06T07:24:46.867055Z",
     "iopub.status.idle": "2024-04-06T07:24:46.873753Z",
     "shell.execute_reply": "2024-04-06T07:24:46.873052Z"
    },
    "papermill": {
     "duration": 0.015751,
     "end_time": "2024-04-06T07:24:46.875350",
     "exception": false,
     "start_time": "2024-04-06T07:24:46.859599",
     "status": "completed"
    },
    "tags": []
   },
   "outputs": [],
   "source": [
    "try:\n",
    "    os.mkdir(\"train_dicts\")\n",
    "except:\n",
    "    print(\"Folder exist\")\n",
    "\n",
    "pickle.dump(BBs_dict_1, open(\"train_dicts/BBs_dict_1.p\", \"bw\"))\n",
    "pickle.dump(BBs_dict_2, open(\"train_dicts/BBs_dict_2.p\", \"bw\"))\n",
    "pickle.dump(BBs_dict_3, open(\"train_dicts/BBs_dict_3.p\", \"bw\"))\n",
    "pickle.dump(BBs_dict_reverse_1, open(\"train_dicts/BBs_dict_reverse_1.p\", \"bw\"))\n",
    "pickle.dump(BBs_dict_reverse_2, open(\"train_dicts/BBs_dict_reverse_2.p\", \"bw\"))\n",
    "pickle.dump(BBs_dict_reverse_3, open(\"train_dicts/BBs_dict_reverse_3.p\", \"bw\"))"
   ]
  },
  {
   "cell_type": "markdown",
   "id": "e40ab8b3",
   "metadata": {
    "papermill": {
     "duration": 0.005956,
     "end_time": "2024-04-06T07:24:46.886845",
     "exception": false,
     "start_time": "2024-04-06T07:24:46.880889",
     "status": "completed"
    },
    "tags": []
   },
   "source": [
    "# For the test set\n"
   ]
  },
  {
   "cell_type": "code",
   "execution_count": null,
   "id": "700debea",
   "metadata": {
    "execution": {
     "iopub.execute_input": "2024-04-06T07:24:46.899865Z",
     "iopub.status.busy": "2024-04-06T07:24:46.899586Z",
     "iopub.status.idle": "2024-04-06T07:24:46.928509Z",
     "shell.execute_reply": "2024-04-06T07:24:46.927778Z"
    },
    "papermill": {
     "duration": 0.037493,
     "end_time": "2024-04-06T07:24:46.930032",
     "exception": false,
     "start_time": "2024-04-06T07:24:46.892539",
     "status": "completed"
    },
    "tags": []
   },
   "outputs": [],
   "source": [
    "test_path = \"/kaggle/input/leash-BELKA/test.parquet\"\n",
    "\n",
    "df = pd.read_csv(\"/kaggle/input/leash-BELKA/test.csv\", nrows=2)\n",
    "df.head()"
   ]
  },
  {
   "cell_type": "code",
   "execution_count": null,
   "id": "972741da",
   "metadata": {
    "execution": {
     "iopub.execute_input": "2024-04-06T07:24:46.943112Z",
     "iopub.status.busy": "2024-04-06T07:24:46.942846Z",
     "iopub.status.idle": "2024-04-06T07:24:46.952600Z",
     "shell.execute_reply": "2024-04-06T07:24:46.951835Z"
    },
    "papermill": {
     "duration": 0.018208,
     "end_time": "2024-04-06T07:24:46.954263",
     "exception": false,
     "start_time": "2024-04-06T07:24:46.936055",
     "status": "completed"
    },
    "tags": []
   },
   "outputs": [],
   "source": [
    "ParquetFile(\"/kaggle/input/leash-BELKA/test.parquet\").metadata"
   ]
  },
  {
   "cell_type": "code",
   "execution_count": null,
   "id": "21b1d4c4",
   "metadata": {
    "execution": {
     "iopub.execute_input": "2024-04-06T07:24:46.967620Z",
     "iopub.status.busy": "2024-04-06T07:24:46.967147Z",
     "iopub.status.idle": "2024-04-06T07:24:47.262121Z",
     "shell.execute_reply": "2024-04-06T07:24:47.261141Z"
    },
    "papermill": {
     "duration": 0.304086,
     "end_time": "2024-04-06T07:24:47.264137",
     "exception": false,
     "start_time": "2024-04-06T07:24:46.960051",
     "status": "completed"
    },
    "tags": []
   },
   "outputs": [],
   "source": [
    "def id_eda_test(dataset_path):\n",
    "    id_arr = pd.read_parquet(\n",
    "        dataset_path, engine=\"pyarrow\", columns=[\"id\"]\n",
    "    ).id.to_numpy()\n",
    "    id_arr_2 = range(295246830, 295246830 + 1674896)\n",
    "    print(np.mean(id_arr == id_arr_2))\n",
    "\n",
    "\n",
    "id_eda_test(test_path)"
   ]
  },
  {
   "cell_type": "markdown",
   "id": "fd7c0345",
   "metadata": {
    "papermill": {
     "duration": 0.0064,
     "end_time": "2024-04-06T07:24:47.276782",
     "exception": false,
     "start_time": "2024-04-06T07:24:47.270382",
     "status": "completed"
    },
    "tags": []
   },
   "source": [
    "The length of the test set is not dividable by 3. So, for some small molecules, we need to predict only one or two proteins.\n"
   ]
  },
  {
   "cell_type": "code",
   "execution_count": null,
   "id": "d081f432",
   "metadata": {
    "execution": {
     "iopub.execute_input": "2024-04-06T07:24:47.290377Z",
     "iopub.status.busy": "2024-04-06T07:24:47.290107Z",
     "iopub.status.idle": "2024-04-06T07:24:52.709899Z",
     "shell.execute_reply": "2024-04-06T07:24:52.708940Z"
    },
    "papermill": {
     "duration": 5.428828,
     "end_time": "2024-04-06T07:24:52.711707",
     "exception": false,
     "start_time": "2024-04-06T07:24:47.282879",
     "status": "completed"
    },
    "tags": []
   },
   "outputs": [],
   "source": [
    "molecule_smiles = pd.read_parquet(\n",
    "    test_path, engine=\"pyarrow\", columns=[\"molecule_smiles\"]\n",
    ").molecule_smiles.to_numpy()\n",
    "protein_name = pd.read_parquet(\n",
    "    test_path, engine=\"pyarrow\", columns=[\"protein_name\"]\n",
    ").protein_name.to_numpy()\n",
    "first_unique_molecule_smiles_indices = []\n",
    "molecule_smiles_unique = {}\n",
    "is_BRD4 = {}\n",
    "is_HSA = {}\n",
    "is_sEH = {}\n",
    "\n",
    "for i, x in enumerate(molecule_smiles):\n",
    "    if x not in molecule_smiles_unique:\n",
    "        # New molecule\n",
    "        molecule_smiles_unique[x] = [i]\n",
    "        # Save the indices of the molecules that were seen for the 1st time\n",
    "        first_unique_molecule_smiles_indices.append(i)\n",
    "        is_BRD4[x] = False\n",
    "        is_HSA[x] = False\n",
    "        is_sEH[x] = False\n",
    "        # Add the molecule to the relevant protein dict\n",
    "        if protein_name[i] == \"BRD4\":\n",
    "            is_BRD4[x] = True\n",
    "        if protein_name[i] == \"HSA\":\n",
    "            is_HSA[x] = True\n",
    "        if protein_name[i] == \"sEH\":\n",
    "            is_sEH[x] = True\n",
    "    else:\n",
    "        # Molecule already seen\n",
    "        molecule_smiles_unique[x].append(i)\n",
    "        if protein_name[i] == \"BRD4\":\n",
    "            is_BRD4[x] = True\n",
    "        if protein_name[i] == \"HSA\":\n",
    "            is_HSA[x] = True\n",
    "        if protein_name[i] == \"sEH\":\n",
    "            is_sEH[x] = True\n",
    "first_unique_molecule_smiles_indices = np.asarray(first_unique_molecule_smiles_indices)\n",
    "print(len(is_BRD4))\n",
    "print(np.sum([is_BRD4[x] for x in is_BRD4]))\n",
    "print(np.sum([is_HSA[x] for x in is_HSA]))\n",
    "print(np.sum([is_sEH[x] for x in is_sEH]))\n",
    "\n",
    "molecule_smiles_unique_arr = molecule_smiles[first_unique_molecule_smiles_indices]\n",
    "print(len(np.unique(molecule_smiles_unique_arr)) == len(molecule_smiles_unique_arr))"
   ]
  },
  {
   "cell_type": "code",
   "execution_count": null,
   "id": "76e10391",
   "metadata": {
    "execution": {
     "iopub.execute_input": "2024-04-06T07:24:52.726451Z",
     "iopub.status.busy": "2024-04-06T07:24:52.726168Z",
     "iopub.status.idle": "2024-04-06T07:24:53.385082Z",
     "shell.execute_reply": "2024-04-06T07:24:53.384212Z"
    },
    "papermill": {
     "duration": 0.668433,
     "end_time": "2024-04-06T07:24:53.386880",
     "exception": false,
     "start_time": "2024-04-06T07:24:52.718447",
     "status": "completed"
    },
    "tags": []
   },
   "outputs": [],
   "source": [
    "is_BRD4_arr = np.asarray([is_BRD4[x] for x in molecule_smiles_unique])\n",
    "is_HSA_arr = np.asarray([is_HSA[x] for x in molecule_smiles_unique])\n",
    "is_sEH_arr = np.asarray([is_sEH[x] for x in molecule_smiles_unique])\n",
    "\n",
    "print(np.sum(is_BRD4_arr))\n",
    "print(np.sum(is_HSA_arr))\n",
    "print(np.sum(is_sEH_arr))"
   ]
  },
  {
   "cell_type": "code",
   "execution_count": null,
   "id": "46ac4ffa",
   "metadata": {
    "execution": {
     "iopub.execute_input": "2024-04-06T07:24:53.401020Z",
     "iopub.status.busy": "2024-04-06T07:24:53.400740Z",
     "iopub.status.idle": "2024-04-06T07:24:57.175361Z",
     "shell.execute_reply": "2024-04-06T07:24:57.174529Z"
    },
    "papermill": {
     "duration": 3.783592,
     "end_time": "2024-04-06T07:24:57.177076",
     "exception": false,
     "start_time": "2024-04-06T07:24:53.393484",
     "status": "completed"
    },
    "tags": []
   },
   "outputs": [],
   "source": [
    "def get_unique_BB_test(dataset_path, col):\n",
    "    BBs = pd.read_parquet(dataset_path, engine=\"pyarrow\", columns=[col])\n",
    "    BBs = BBs[col].to_numpy()\n",
    "    BBs_unique = np.unique(BBs)\n",
    "    BBs_unique = list(BBs_unique)\n",
    "    BBs_dict = {BBs_unique[i]: i for i in range(len(BBs_unique))}\n",
    "    BBs_dict_reverse = {i: BBs_unique[i] for i in range(len(BBs_unique))}\n",
    "    return BBs_dict, BBs_dict_reverse\n",
    "\n",
    "\n",
    "BBs_dict_1_test, BBs_dict_reverse_1_test = get_unique_BB_test(\n",
    "    test_path, \"buildingblock1_smiles\"\n",
    ")\n",
    "print(len(BBs_dict_1_test))\n",
    "BBs_dict_2_test, BBs_dict_reverse_2_test = get_unique_BB_test(\n",
    "    test_path, \"buildingblock2_smiles\"\n",
    ")\n",
    "print(len(BBs_dict_2_test))\n",
    "BBs_dict_3_test, BBs_dict_reverse_3_test = get_unique_BB_test(\n",
    "    test_path, \"buildingblock3_smiles\"\n",
    ")\n",
    "print(len(BBs_dict_3_test))"
   ]
  },
  {
   "cell_type": "code",
   "execution_count": null,
   "id": "0768d243",
   "metadata": {
    "execution": {
     "iopub.execute_input": "2024-04-06T07:24:57.191445Z",
     "iopub.status.busy": "2024-04-06T07:24:57.191183Z",
     "iopub.status.idle": "2024-04-06T07:24:57.815346Z",
     "shell.execute_reply": "2024-04-06T07:24:57.814508Z"
    },
    "papermill": {
     "duration": 0.633792,
     "end_time": "2024-04-06T07:24:57.817651",
     "exception": false,
     "start_time": "2024-04-06T07:24:57.183859",
     "status": "completed"
    },
    "tags": []
   },
   "outputs": [],
   "source": [
    "def get_encoded_test(dataset_path, col, BBs_dict):\n",
    "    BBs = pd.read_parquet(dataset_path, engine=\"pyarrow\", columns=[col])\n",
    "    BBs = BBs[col].to_numpy()\n",
    "    BBs = BBs[first_unique_molecule_smiles_indices]\n",
    "    encoded_BBs = [BBs_dict[x] for x in BBs]\n",
    "    encoded_BBs = np.asarray(encoded_BBs, dtype=np.int16)\n",
    "    return encoded_BBs\n",
    "\n",
    "\n",
    "encoded_BBs_1_test = get_encoded_test(\n",
    "    test_path, \"buildingblock1_smiles\", BBs_dict_1_test\n",
    ")\n",
    "encoded_BBs_2_test = get_encoded_test(\n",
    "    test_path, \"buildingblock2_smiles\", BBs_dict_2_test\n",
    ")\n",
    "encoded_BBs_3_test = get_encoded_test(\n",
    "    test_path, \"buildingblock3_smiles\", BBs_dict_3_test\n",
    ")"
   ]
  },
  {
   "cell_type": "code",
   "execution_count": null,
   "id": "f89c92d1",
   "metadata": {
    "execution": {
     "iopub.execute_input": "2024-04-06T07:24:57.832885Z",
     "iopub.status.busy": "2024-04-06T07:24:57.832570Z",
     "iopub.status.idle": "2024-04-06T07:24:59.412714Z",
     "shell.execute_reply": "2024-04-06T07:24:59.411895Z"
    },
    "papermill": {
     "duration": 1.589626,
     "end_time": "2024-04-06T07:24:59.414467",
     "exception": false,
     "start_time": "2024-04-06T07:24:57.824841",
     "status": "completed"
    },
    "tags": []
   },
   "outputs": [],
   "source": [
    "data = {\n",
    "    \"buildingblock1_smiles\": encoded_BBs_1_test,\n",
    "    \"buildingblock2_smiles\": encoded_BBs_2_test,\n",
    "    \"buildingblock3_smiles\": encoded_BBs_3_test,\n",
    "    \"molecule_smiles\": molecule_smiles_unique_arr,\n",
    "    \"is_BRD4\": is_BRD4_arr,\n",
    "    \"is_HSA\": is_HSA_arr,\n",
    "    \"is_sEH\": is_sEH_arr,\n",
    "}\n",
    "df = pd.DataFrame(data=data)\n",
    "df.head(2)"
   ]
  },
  {
   "cell_type": "code",
   "execution_count": null,
   "id": "9d640655",
   "metadata": {
    "execution": {
     "iopub.execute_input": "2024-04-06T07:24:59.429326Z",
     "iopub.status.busy": "2024-04-06T07:24:59.429060Z",
     "iopub.status.idle": "2024-04-06T07:25:03.228379Z",
     "shell.execute_reply": "2024-04-06T07:25:03.227525Z"
    },
    "papermill": {
     "duration": 3.809698,
     "end_time": "2024-04-06T07:25:03.230838",
     "exception": false,
     "start_time": "2024-04-06T07:24:59.421140",
     "status": "completed"
    },
    "tags": []
   },
   "outputs": [],
   "source": [
    "df.to_parquet(\"test.parquet\", index=False)\n",
    "df.to_csv(\"test.csv\", index=False)"
   ]
  },
  {
   "cell_type": "code",
   "execution_count": null,
   "id": "d4435fdf",
   "metadata": {
    "execution": {
     "iopub.execute_input": "2024-04-06T07:25:03.246888Z",
     "iopub.status.busy": "2024-04-06T07:25:03.246560Z",
     "iopub.status.idle": "2024-04-06T07:25:03.253531Z",
     "shell.execute_reply": "2024-04-06T07:25:03.252724Z"
    },
    "papermill": {
     "duration": 0.017852,
     "end_time": "2024-04-06T07:25:03.255681",
     "exception": false,
     "start_time": "2024-04-06T07:25:03.237829",
     "status": "completed"
    },
    "tags": []
   },
   "outputs": [],
   "source": [
    "try:\n",
    "    os.mkdir(\"test_dicts\")\n",
    "except:\n",
    "    print(\"Folder exist\")\n",
    "\n",
    "pickle.dump(BBs_dict_1_test, open(\"test_dicts/BBs_dict_1_test.p\", \"bw\"))\n",
    "pickle.dump(BBs_dict_2_test, open(\"test_dicts/BBs_dict_2_test.p\", \"bw\"))\n",
    "pickle.dump(BBs_dict_3_test, open(\"test_dicts/BBs_dict_3_test.p\", \"bw\"))\n",
    "pickle.dump(BBs_dict_reverse_1_test, open(\"test_dicts/BBs_dict_reverse_1_test.p\", \"bw\"))\n",
    "pickle.dump(BBs_dict_reverse_2_test, open(\"test_dicts/BBs_dict_reverse_2_test.p\", \"bw\"))\n",
    "pickle.dump(BBs_dict_reverse_3_test, open(\"test_dicts/BBs_dict_reverse_3_test.p\", \"bw\"))"
   ]
  },
  {
   "cell_type": "code",
   "execution_count": null,
   "id": "847a97e6",
   "metadata": {
    "execution": {
     "iopub.execute_input": "2024-04-06T07:25:03.272782Z",
     "iopub.status.busy": "2024-04-06T07:25:03.272492Z",
     "iopub.status.idle": "2024-04-06T07:25:03.963908Z",
     "shell.execute_reply": "2024-04-06T07:25:03.962949Z"
    },
    "papermill": {
     "duration": 0.701389,
     "end_time": "2024-04-06T07:25:03.966412",
     "exception": false,
     "start_time": "2024-04-06T07:25:03.265023",
     "status": "completed"
    },
    "tags": []
   },
   "outputs": [],
   "source": [
    "pickle.dump(molecule_smiles_unique, open(\"test_dicts/molecule_smiles_unique.p\", \"bw\"))"
   ]
  }
 ],
 "metadata": {
  "kaggle": {
   "accelerator": "none",
   "dataSources": [
    {
     "databundleVersionId": 8006601,
     "sourceId": 67356,
     "sourceType": "competition"
    }
   ],
   "dockerImageVersionId": 30673,
   "isGpuEnabled": false,
   "isInternetEnabled": true,
   "language": "python",
   "sourceType": "notebook"
  },
  "kernelspec": {
   "display_name": "Python 3",
   "language": "python",
   "name": "python3"
  },
  "language_info": {
   "codemirror_mode": {
    "name": "ipython",
    "version": 3
   },
   "file_extension": ".py",
   "mimetype": "text/x-python",
   "name": "python",
   "nbconvert_exporter": "python",
   "pygments_lexer": "ipython3",
   "version": "3.11.6"
  },
  "papermill": {
   "default_parameters": {},
   "duration": 986.063593,
   "end_time": "2024-04-06T07:25:07.095277",
   "environment_variables": {},
   "exception": null,
   "input_path": "__notebook__.ipynb",
   "output_path": "__notebook__.ipynb",
   "parameters": {},
   "start_time": "2024-04-06T07:08:41.031684",
   "version": "2.5.0"
  }
 },
 "nbformat": 4,
 "nbformat_minor": 5
}
